{
  "nbformat": 4,
  "nbformat_minor": 0,
  "metadata": {
    "colab": {
      "provenance": [],
      "authorship_tag": "ABX9TyN/jndbNWvEskp8hC4+5Ff7",
      "include_colab_link": true
    },
    "kernelspec": {
      "name": "python3",
      "display_name": "Python 3"
    },
    "language_info": {
      "name": "python"
    }
  },
  "cells": [
    {
      "cell_type": "markdown",
      "metadata": {
        "id": "view-in-github",
        "colab_type": "text"
      },
      "source": [
        "<a href=\"https://colab.research.google.com/github/ksushenc1a/NLP-course/blob/main/task3.ipynb\" target=\"_parent\"><img src=\"https://colab.research.google.com/assets/colab-badge.svg\" alt=\"Open In Colab\"/></a>"
      ]
    },
    {
      "cell_type": "code",
      "source": [
        "!pip install aiogram==2.25.2\n",
        "import json\n",
        "import logging\n",
        "from aiogram import Bot, Dispatcher, types\n",
        "from aiogram.utils import executor\n",
        "from aiogram.contrib.fsm_storage.memory import MemoryStorage\n",
        "\n",
        "# Установите ваш API токен здесь\n",
        "API_TOKEN = \"\"\n",
        "\n",
        "# Настройка логирования\n",
        "logging.basicConfig(level=logging.INFO)\n",
        "\n",
        "# Инициализация бота и диспетчера\n",
        "bot = Bot(token=API_TOKEN)\n",
        "storage = MemoryStorage()\n",
        "dp = Dispatcher(bot, storage=storage)\n",
        "\n",
        "# Загрузка FAQ из JSON\n",
        "with open('faq.json', 'r', encoding='utf-8') as f:\n",
        "    data = json.load(f)['faq']  # Изменено для получения списка FAQ\n",
        "\n",
        "# Кнопки\n",
        "button_company = types.KeyboardButton(\"О компании\")\n",
        "button_contact = types.KeyboardButton(\"Связаться с оператором\")\n",
        "keyboard = types.ReplyKeyboardMarkup(resize_keyboard=True).add(button_company, button_contact)\n",
        "\n",
        "# Обработка команд /start\n",
        "@dp.message_handler(commands=['start'])\n",
        "async def send_welcome(message: types.Message):\n",
        "    await message.reply(\"Добро пожаловать! Какой у вас вопрос?\", reply_markup=keyboard)\n",
        "\n",
        "# Обработка текстовых сообщений\n",
        "@dp.message_handler()\n",
        "async def handle_message(message: types.Message):\n",
        "    user_message = message.text.lower()\n",
        "\n",
        "    # Проверка на кнопки\n",
        "    if user_message == \"о компании\":\n",
        "        await message.reply(\"Наша компания занимается доставкой товаров по всей стране.\")\n",
        "        return\n",
        "    elif user_message == \"связаться с оператором\":\n",
        "        await message.reply(\"Перевожу на оператора…\")\n",
        "        return\n",
        "\n",
        "    # Ключевые слова для поиска вопросов\n",
        "    keywords = {\n",
        "        \"Цены\": [\"цены\", \"стоимость\", \"заказ\", \"оплата\"],\n",
        "        \"Часы работы\": [\"часы работы\", \"время работы\", \"доступность\"],\n",
        "        \"Доставка\": [\"доставка\", \"сроки доставки\", \"стоимость доставки\", \"отслеживание\"],\n",
        "        \"Возврат\": [\"возврат\", \"обмен\", \"возврат товара\", \"гарантия\"],\n",
        "        \"Контакты\": [\"связаться\", \"телефон\", \"email\", \"адрес\"]\n",
        "    }\n",
        "# Поиск ответа по ключевым словам\n",
        "    for word in user_message.split():\n",
        "        for category, keys in keywords.items():\n",
        "            if word in keys:\n",
        "                # Также проверяем на соответствие с вопросами в FAQ\n",
        "                for item in data:\n",
        "                    if category.lower() in item['question'].lower():\n",
        "                        await message.reply(item['answer'])\n",
        "                        return\n",
        "\n",
        "    # Перебор вопросов из faq.json для более глубокого поиска\n",
        "    for entry in data:\n",
        "        if entry['question'].lower() in user_message:\n",
        "            await message.reply(entry['answer'])\n",
        "            return\n",
        "\n",
        "    # Если ничего не подошло\n",
        "    await message.reply(\"Извините, я не понимаю ваш запрос.\")\n",
        "\n",
        "async def main():\n",
        "    bot = Bot(token=API_TOKEN)\n",
        "    await dp.start_polling(bot)\n",
        "\n",
        "# Проверяем, запущен ли скрипт напрямую (не импортирован в другой файл)\n",
        "if __name__ == \"__main__\":\n",
        "    # Запускаем основную функцию\n",
        "    await main()"
      ],
      "metadata": {
        "colab": {
          "base_uri": "https://localhost:8080/",
          "height": 619
        },
        "id": "rstKEIpd8M49",
        "outputId": "341e9337-7497-4a46-8922-5d279a9e5c80"
      },
      "execution_count": 31,
      "outputs": [
        {
          "output_type": "stream",
          "name": "stdout",
          "text": [
            "Requirement already satisfied: aiogram==2.25.2 in /usr/local/lib/python3.11/dist-packages (2.25.2)\n",
            "Requirement already satisfied: aiohttp<3.9.0,>=3.8.0 in /usr/local/lib/python3.11/dist-packages (from aiogram==2.25.2) (3.8.6)\n",
            "Requirement already satisfied: Babel<2.10.0,>=2.9.1 in /usr/local/lib/python3.11/dist-packages (from aiogram==2.25.2) (2.9.1)\n",
            "Requirement already satisfied: certifi>=2021.10.8 in /usr/local/lib/python3.11/dist-packages (from aiogram==2.25.2) (2025.1.31)\n",
            "Requirement already satisfied: magic-filter>=1.0.9 in /usr/local/lib/python3.11/dist-packages (from aiogram==2.25.2) (1.0.12)\n",
            "Requirement already satisfied: attrs>=17.3.0 in /usr/local/lib/python3.11/dist-packages (from aiohttp<3.9.0,>=3.8.0->aiogram==2.25.2) (25.1.0)\n",
            "Requirement already satisfied: charset-normalizer<4.0,>=2.0 in /usr/local/lib/python3.11/dist-packages (from aiohttp<3.9.0,>=3.8.0->aiogram==2.25.2) (3.4.1)\n",
            "Requirement already satisfied: multidict<7.0,>=4.5 in /usr/local/lib/python3.11/dist-packages (from aiohttp<3.9.0,>=3.8.0->aiogram==2.25.2) (6.1.0)\n",
            "Requirement already satisfied: async-timeout<5.0,>=4.0.0a3 in /usr/local/lib/python3.11/dist-packages (from aiohttp<3.9.0,>=3.8.0->aiogram==2.25.2) (4.0.3)\n",
            "Requirement already satisfied: yarl<2.0,>=1.0 in /usr/local/lib/python3.11/dist-packages (from aiohttp<3.9.0,>=3.8.0->aiogram==2.25.2) (1.18.3)\n",
            "Requirement already satisfied: frozenlist>=1.1.1 in /usr/local/lib/python3.11/dist-packages (from aiohttp<3.9.0,>=3.8.0->aiogram==2.25.2) (1.5.0)\n",
            "Requirement already satisfied: aiosignal>=1.1.2 in /usr/local/lib/python3.11/dist-packages (from aiohttp<3.9.0,>=3.8.0->aiogram==2.25.2) (1.3.2)\n",
            "Requirement already satisfied: pytz>=2015.7 in /usr/local/lib/python3.11/dist-packages (from Babel<2.10.0,>=2.9.1->aiogram==2.25.2) (2025.1)\n",
            "Requirement already satisfied: idna>=2.0 in /usr/local/lib/python3.11/dist-packages (from yarl<2.0,>=1.0->aiohttp<3.9.0,>=3.8.0->aiogram==2.25.2) (3.10)\n",
            "Requirement already satisfied: propcache>=0.2.0 in /usr/local/lib/python3.11/dist-packages (from yarl<2.0,>=1.0->aiohttp<3.9.0,>=3.8.0->aiogram==2.25.2) (0.2.1)\n"
          ]
        },
        {
          "output_type": "stream",
          "name": "stderr",
          "text": [
            "WARNING:aiogram.dispatcher.dispatcher:Polling is stopped.\n"
          ]
        },
        {
          "output_type": "error",
          "ename": "CancelledError",
          "evalue": "",
          "traceback": [
            "\u001b[0;31m---------------------------------------------------------------------------\u001b[0m",
            "\u001b[0;31mCancelledError\u001b[0m                            Traceback (most recent call last)",
            "\u001b[0;32m<ipython-input-31-ba24d9809e76>\u001b[0m in \u001b[0;36m<cell line: 1>\u001b[0;34m()\u001b[0m\n\u001b[1;32m     78\u001b[0m \u001b[0;32mif\u001b[0m \u001b[0m__name__\u001b[0m \u001b[0;34m==\u001b[0m \u001b[0;34m\"__main__\"\u001b[0m\u001b[0;34m:\u001b[0m\u001b[0;34m\u001b[0m\u001b[0;34m\u001b[0m\u001b[0m\n\u001b[1;32m     79\u001b[0m     \u001b[0;31m# Запускаем основную функцию\u001b[0m\u001b[0;34m\u001b[0m\u001b[0;34m\u001b[0m\u001b[0m\n\u001b[0;32m---> 80\u001b[0;31m     \u001b[0;32mawait\u001b[0m \u001b[0mmain\u001b[0m\u001b[0;34m(\u001b[0m\u001b[0;34m)\u001b[0m\u001b[0;34m\u001b[0m\u001b[0;34m\u001b[0m\u001b[0m\n\u001b[0m",
            "\u001b[0;32m<ipython-input-31-ba24d9809e76>\u001b[0m in \u001b[0;36mmain\u001b[0;34m()\u001b[0m\n\u001b[1;32m     73\u001b[0m \u001b[0;32masync\u001b[0m \u001b[0;32mdef\u001b[0m \u001b[0mmain\u001b[0m\u001b[0;34m(\u001b[0m\u001b[0;34m)\u001b[0m\u001b[0;34m:\u001b[0m\u001b[0;34m\u001b[0m\u001b[0;34m\u001b[0m\u001b[0m\n\u001b[1;32m     74\u001b[0m     \u001b[0mbot\u001b[0m \u001b[0;34m=\u001b[0m \u001b[0mBot\u001b[0m\u001b[0;34m(\u001b[0m\u001b[0mtoken\u001b[0m\u001b[0;34m=\u001b[0m\u001b[0mAPI_TOKEN\u001b[0m\u001b[0;34m)\u001b[0m\u001b[0;34m\u001b[0m\u001b[0;34m\u001b[0m\u001b[0m\n\u001b[0;32m---> 75\u001b[0;31m     \u001b[0;32mawait\u001b[0m \u001b[0mdp\u001b[0m\u001b[0;34m.\u001b[0m\u001b[0mstart_polling\u001b[0m\u001b[0;34m(\u001b[0m\u001b[0mbot\u001b[0m\u001b[0;34m)\u001b[0m\u001b[0;34m\u001b[0m\u001b[0;34m\u001b[0m\u001b[0m\n\u001b[0m\u001b[1;32m     76\u001b[0m \u001b[0;34m\u001b[0m\u001b[0m\n\u001b[1;32m     77\u001b[0m \u001b[0;31m# Проверяем, запущен ли скрипт напрямую (не импортирован в другой файл)\u001b[0m\u001b[0;34m\u001b[0m\u001b[0;34m\u001b[0m\u001b[0m\n",
            "\u001b[0;32m/usr/local/lib/python3.11/dist-packages/aiogram/dispatcher/dispatcher.py\u001b[0m in \u001b[0;36mstart_polling\u001b[0;34m(self, timeout, relax, limit, reset_webhook, fast, error_sleep, allowed_updates)\u001b[0m\n\u001b[1;32m    402\u001b[0m \u001b[0;34m\u001b[0m\u001b[0m\n\u001b[1;32m    403\u001b[0m                 \u001b[0;32mif\u001b[0m \u001b[0mrelax\u001b[0m\u001b[0;34m:\u001b[0m\u001b[0;34m\u001b[0m\u001b[0;34m\u001b[0m\u001b[0m\n\u001b[0;32m--> 404\u001b[0;31m                     \u001b[0;32mawait\u001b[0m \u001b[0masyncio\u001b[0m\u001b[0;34m.\u001b[0m\u001b[0msleep\u001b[0m\u001b[0;34m(\u001b[0m\u001b[0mrelax\u001b[0m\u001b[0;34m)\u001b[0m\u001b[0;34m\u001b[0m\u001b[0;34m\u001b[0m\u001b[0m\n\u001b[0m\u001b[1;32m    405\u001b[0m \u001b[0;34m\u001b[0m\u001b[0m\n\u001b[1;32m    406\u001b[0m         \u001b[0;32mfinally\u001b[0m\u001b[0;34m:\u001b[0m\u001b[0;34m\u001b[0m\u001b[0;34m\u001b[0m\u001b[0m\n",
            "\u001b[0;32m/usr/lib/python3.11/asyncio/tasks.py\u001b[0m in \u001b[0;36msleep\u001b[0;34m(delay, result)\u001b[0m\n\u001b[1;32m    647\u001b[0m                         future, result)\n\u001b[1;32m    648\u001b[0m     \u001b[0;32mtry\u001b[0m\u001b[0;34m:\u001b[0m\u001b[0;34m\u001b[0m\u001b[0;34m\u001b[0m\u001b[0m\n\u001b[0;32m--> 649\u001b[0;31m         \u001b[0;32mreturn\u001b[0m \u001b[0;32mawait\u001b[0m \u001b[0mfuture\u001b[0m\u001b[0;34m\u001b[0m\u001b[0;34m\u001b[0m\u001b[0m\n\u001b[0m\u001b[1;32m    650\u001b[0m     \u001b[0;32mfinally\u001b[0m\u001b[0;34m:\u001b[0m\u001b[0;34m\u001b[0m\u001b[0;34m\u001b[0m\u001b[0m\n\u001b[1;32m    651\u001b[0m         \u001b[0mh\u001b[0m\u001b[0;34m.\u001b[0m\u001b[0mcancel\u001b[0m\u001b[0;34m(\u001b[0m\u001b[0;34m)\u001b[0m\u001b[0;34m\u001b[0m\u001b[0;34m\u001b[0m\u001b[0m\n",
            "\u001b[0;31mCancelledError\u001b[0m: "
          ]
        }
      ]
    }
  ]
}